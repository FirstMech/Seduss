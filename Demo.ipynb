{
 "cells": [
  {
   "cell_type": "markdown",
   "id": "d90b7036-1e8e-4bf5-b620-9765f5ab1c22",
   "metadata": {},
   "source": [
    "DUYGU ANALİZİ"
   ]
  },
  {
   "cell_type": "code",
   "execution_count": 33,
   "id": "1d31b096-2fe5-47eb-a191-640f4616ba49",
   "metadata": {},
   "outputs": [],
   "source": [
    "from Emotion_Class import Emotion_Execute\n",
    "\n",
    "Emotion_Execute()"
   ]
  },
  {
   "cell_type": "code",
   "execution_count": null,
   "id": "932a70c9-f8ac-48fd-938e-ef426d5bf752",
   "metadata": {},
   "outputs": [],
   "source": []
  },
  {
   "cell_type": "code",
   "execution_count": 32,
   "id": "b61766d7-fac7-4a33-a561-ca9aa7c225dc",
   "metadata": {},
   "outputs": [],
   "source": [
    "import cv2\n",
    "\n",
    "def display_camera_with_image(image_path):\n",
    "    # Open the default camera (index 0)\n",
    "    cap = cv2.VideoCapture(0)\n",
    "\n",
    "    # Check if the camera is opened successfully\n",
    "    if not cap.isOpened():\n",
    "        print(\"Error: Could not open camera.\")\n",
    "        return\n",
    "\n",
    "    # Load the image\n",
    "    image = cv2.imread(image_path)\n",
    "    if image is None:\n",
    "        print(f\"Error: Unable to load image from {image_path}\")\n",
    "        return\n",
    "\n",
    "    while True:\n",
    "        # Capture frame-by-frame\n",
    "        ret, frame = cap.read()\n",
    "\n",
    "        # Check if the frame was captured successfully\n",
    "        if not ret:\n",
    "            print(\"Error: Failed to capture frame.\")\n",
    "            break\n",
    "\n",
    "        # Resize the image to match the frame height\n",
    "        image_resized = cv2.resize(image, (frame.shape[1], frame.shape[0]))\n",
    "\n",
    "        # Concatenate the camera frame and the image horizontally\n",
    "        combined_frame = cv2.hconcat([frame, image_resized])\n",
    "\n",
    "        # Display the combined frame\n",
    "        cv2.imshow('Camera with Image', combined_frame)\n",
    "\n",
    "        # Check for the 'q' key to quit the loop\n",
    "        if cv2.waitKey(1) & 0xFF == ord('q'):\n",
    "            break\n",
    "\n",
    "    # Release the camera and close all OpenCV windows\n",
    "    cap.release()\n",
    "    cv2.destroyAllWindows()\n",
    "\n",
    "# Path to the image file you want to display alongside camera input\n",
    "image_path = 'assets/avatar.png'\n",
    "\n",
    "# Call the function to display camera input with the specified image\n",
    "display_camera_with_image(image_path)\n"
   ]
  },
  {
   "cell_type": "code",
   "execution_count": null,
   "id": "d1d91efd-d77b-40f2-906c-ca91a949eb57",
   "metadata": {},
   "outputs": [],
   "source": []
  },
  {
   "cell_type": "code",
   "execution_count": null,
   "id": "7107b792-238f-4179-85a6-e785f1ba1eec",
   "metadata": {},
   "outputs": [],
   "source": []
  },
  {
   "cell_type": "code",
   "execution_count": null,
   "id": "f5f49ffa-1afa-4d93-8a64-2757d2c34bb8",
   "metadata": {},
   "outputs": [],
   "source": []
  },
  {
   "cell_type": "code",
   "execution_count": null,
   "id": "fa199ba7-7695-42e1-bf63-4e9bfe295387",
   "metadata": {},
   "outputs": [],
   "source": []
  },
  {
   "cell_type": "code",
   "execution_count": null,
   "id": "5e8c4000-c264-4113-9e0c-97b539582ac8",
   "metadata": {},
   "outputs": [],
   "source": []
  },
  {
   "cell_type": "code",
   "execution_count": null,
   "id": "1bb3bf8d-7b90-4946-a6ee-8acf56b6d1c9",
   "metadata": {},
   "outputs": [],
   "source": []
  },
  {
   "cell_type": "code",
   "execution_count": null,
   "id": "488c697b-5daa-470e-9f58-f72f872244ef",
   "metadata": {},
   "outputs": [],
   "source": []
  },
  {
   "cell_type": "code",
   "execution_count": null,
   "id": "75fcccfa-328d-4ac2-a791-7ce9e7b4ce68",
   "metadata": {},
   "outputs": [],
   "source": []
  },
  {
   "cell_type": "code",
   "execution_count": null,
   "id": "ba45f083-7b62-4d48-9b8c-ee20c66cfe5d",
   "metadata": {},
   "outputs": [],
   "source": []
  }
 ],
 "metadata": {
  "kernelspec": {
   "display_name": "avatar",
   "language": "python",
   "name": "avatar"
  },
  "language_info": {
   "codemirror_mode": {
    "name": "ipython",
    "version": 3
   },
   "file_extension": ".py",
   "mimetype": "text/x-python",
   "name": "python",
   "nbconvert_exporter": "python",
   "pygments_lexer": "ipython3",
   "version": "3.9.0"
  }
 },
 "nbformat": 4,
 "nbformat_minor": 5
}
